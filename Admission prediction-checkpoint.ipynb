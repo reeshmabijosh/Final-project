{
 "cells": [
  {
   "cell_type": "markdown",
   "metadata": {},
   "source": [
    "# REGRESSION ALGORITHMS FOR PREDICTING GRADUATE ADMISSION"
   ]
  },
  {
   "cell_type": "code",
   "execution_count": 56,
   "metadata": {},
   "outputs": [],
   "source": [
    "import pandas as pd\n",
    "import numpy as np"
   ]
  },
  {
   "cell_type": "code",
   "execution_count": 57,
   "metadata": {},
   "outputs": [],
   "source": [
    "df=pd.read_csv('df2.csv')"
   ]
  },
  {
   "cell_type": "code",
   "execution_count": 58,
   "metadata": {},
   "outputs": [
    {
     "data": {
      "text/html": [
       "<div>\n",
       "<style scoped>\n",
       "    .dataframe tbody tr th:only-of-type {\n",
       "        vertical-align: middle;\n",
       "    }\n",
       "\n",
       "    .dataframe tbody tr th {\n",
       "        vertical-align: top;\n",
       "    }\n",
       "\n",
       "    .dataframe thead th {\n",
       "        text-align: right;\n",
       "    }\n",
       "</style>\n",
       "<table border=\"1\" class=\"dataframe\">\n",
       "  <thead>\n",
       "    <tr style=\"text-align: right;\">\n",
       "      <th></th>\n",
       "      <th>Enroll</th>\n",
       "      <th>InStateCost</th>\n",
       "      <th>OutStateCost</th>\n",
       "      <th>Gre_score</th>\n",
       "      <th>TOEFL Score</th>\n",
       "      <th>University Rating</th>\n",
       "      <th>SOP</th>\n",
       "      <th>LOR</th>\n",
       "      <th>CGPA</th>\n",
       "      <th>Research</th>\n",
       "      <th>Chance of Admit</th>\n",
       "    </tr>\n",
       "  </thead>\n",
       "  <tbody>\n",
       "    <tr>\n",
       "      <th>0</th>\n",
       "      <td>9397</td>\n",
       "      <td>49940.0</td>\n",
       "      <td>49940.0</td>\n",
       "      <td>337</td>\n",
       "      <td>118</td>\n",
       "      <td>4</td>\n",
       "      <td>4.5</td>\n",
       "      <td>4.5</td>\n",
       "      <td>9.65</td>\n",
       "      <td>1</td>\n",
       "      <td>0.92</td>\n",
       "    </tr>\n",
       "    <tr>\n",
       "      <th>1</th>\n",
       "      <td>1566</td>\n",
       "      <td>44046.0</td>\n",
       "      <td>44046.0</td>\n",
       "      <td>324</td>\n",
       "      <td>107</td>\n",
       "      <td>4</td>\n",
       "      <td>4.0</td>\n",
       "      <td>4.5</td>\n",
       "      <td>8.87</td>\n",
       "      <td>1</td>\n",
       "      <td>0.76</td>\n",
       "    </tr>\n",
       "    <tr>\n",
       "      <th>2</th>\n",
       "      <td>490</td>\n",
       "      <td>34752.0</td>\n",
       "      <td>15700.0</td>\n",
       "      <td>316</td>\n",
       "      <td>104</td>\n",
       "      <td>3</td>\n",
       "      <td>3.0</td>\n",
       "      <td>3.5</td>\n",
       "      <td>8.00</td>\n",
       "      <td>1</td>\n",
       "      <td>0.72</td>\n",
       "    </tr>\n",
       "    <tr>\n",
       "      <th>3</th>\n",
       "      <td>844</td>\n",
       "      <td>34752.0</td>\n",
       "      <td>15700.0</td>\n",
       "      <td>322</td>\n",
       "      <td>110</td>\n",
       "      <td>3</td>\n",
       "      <td>3.5</td>\n",
       "      <td>2.5</td>\n",
       "      <td>8.67</td>\n",
       "      <td>1</td>\n",
       "      <td>0.80</td>\n",
       "    </tr>\n",
       "    <tr>\n",
       "      <th>4</th>\n",
       "      <td>2617</td>\n",
       "      <td>40946.0</td>\n",
       "      <td>40946.0</td>\n",
       "      <td>314</td>\n",
       "      <td>103</td>\n",
       "      <td>2</td>\n",
       "      <td>2.0</td>\n",
       "      <td>3.0</td>\n",
       "      <td>8.21</td>\n",
       "      <td>0</td>\n",
       "      <td>0.65</td>\n",
       "    </tr>\n",
       "    <tr>\n",
       "      <th>5</th>\n",
       "      <td>2344</td>\n",
       "      <td>48020.0</td>\n",
       "      <td>48020.0</td>\n",
       "      <td>330</td>\n",
       "      <td>115</td>\n",
       "      <td>5</td>\n",
       "      <td>4.5</td>\n",
       "      <td>3.0</td>\n",
       "      <td>9.34</td>\n",
       "      <td>1</td>\n",
       "      <td>0.90</td>\n",
       "    </tr>\n",
       "    <tr>\n",
       "      <th>6</th>\n",
       "      <td>138</td>\n",
       "      <td>14600.0</td>\n",
       "      <td>14600.0</td>\n",
       "      <td>321</td>\n",
       "      <td>109</td>\n",
       "      <td>3</td>\n",
       "      <td>3.0</td>\n",
       "      <td>4.0</td>\n",
       "      <td>8.20</td>\n",
       "      <td>1</td>\n",
       "      <td>0.75</td>\n",
       "    </tr>\n",
       "    <tr>\n",
       "      <th>7</th>\n",
       "      <td>982</td>\n",
       "      <td>34752.0</td>\n",
       "      <td>15700.0</td>\n",
       "      <td>308</td>\n",
       "      <td>101</td>\n",
       "      <td>2</td>\n",
       "      <td>3.0</td>\n",
       "      <td>4.0</td>\n",
       "      <td>7.90</td>\n",
       "      <td>0</td>\n",
       "      <td>0.68</td>\n",
       "    </tr>\n",
       "    <tr>\n",
       "      <th>8</th>\n",
       "      <td>2574</td>\n",
       "      <td>64712.0</td>\n",
       "      <td>64712.0</td>\n",
       "      <td>302</td>\n",
       "      <td>102</td>\n",
       "      <td>1</td>\n",
       "      <td>2.0</td>\n",
       "      <td>1.5</td>\n",
       "      <td>8.00</td>\n",
       "      <td>0</td>\n",
       "      <td>0.50</td>\n",
       "    </tr>\n",
       "  </tbody>\n",
       "</table>\n",
       "</div>"
      ],
      "text/plain": [
       "   Enroll  InStateCost  OutStateCost  Gre_score  TOEFL Score  \\\n",
       "0    9397      49940.0       49940.0        337          118   \n",
       "1    1566      44046.0       44046.0        324          107   \n",
       "2     490      34752.0       15700.0        316          104   \n",
       "3     844      34752.0       15700.0        322          110   \n",
       "4    2617      40946.0       40946.0        314          103   \n",
       "5    2344      48020.0       48020.0        330          115   \n",
       "6     138      14600.0       14600.0        321          109   \n",
       "7     982      34752.0       15700.0        308          101   \n",
       "8    2574      64712.0       64712.0        302          102   \n",
       "\n",
       "   University Rating  SOP  LOR  CGPA  Research  Chance of Admit  \n",
       "0                  4  4.5  4.5  9.65         1             0.92  \n",
       "1                  4  4.0  4.5  8.87         1             0.76  \n",
       "2                  3  3.0  3.5  8.00         1             0.72  \n",
       "3                  3  3.5  2.5  8.67         1             0.80  \n",
       "4                  2  2.0  3.0  8.21         0             0.65  \n",
       "5                  5  4.5  3.0  9.34         1             0.90  \n",
       "6                  3  3.0  4.0  8.20         1             0.75  \n",
       "7                  2  3.0  4.0  7.90         0             0.68  \n",
       "8                  1  2.0  1.5  8.00         0             0.50  "
      ]
     },
     "execution_count": 58,
     "metadata": {},
     "output_type": "execute_result"
    }
   ],
   "source": [
    "cdf = df[['Enroll','InStateCost','OutStateCost','Gre_score','TOEFL Score','University Rating','SOP','LOR','CGPA','Research','Chance of Admit']]\n",
    "cdf.head(9)"
   ]
  },
  {
   "cell_type": "code",
   "execution_count": 59,
   "metadata": {},
   "outputs": [],
   "source": [
    "x = cdf.iloc[:, :-1].values\n",
    "y = cdf.iloc[:, 10].values\n"
   ]
  },
  {
   "cell_type": "code",
   "execution_count": 60,
   "metadata": {},
   "outputs": [],
   "source": [
    "from sklearn.model_selection import train_test_split\n",
    "\n",
    "x_train, x_test,y_train, y_test = train_test_split(x,y,test_size = 0.20,random_state = 42)"
   ]
  },
  {
   "cell_type": "markdown",
   "metadata": {},
   "source": [
    "# Linear Regression\n"
   ]
  },
  {
   "cell_type": "code",
   "execution_count": 61,
   "metadata": {},
   "outputs": [],
   "source": [
    "from sklearn.linear_model import LinearRegression\n",
    "lr = LinearRegression()\n",
    "lr.fit(x_train,y_train)\n",
    "y_pred = lr.predict(x_test)\n"
   ]
  },
  {
   "cell_type": "code",
   "execution_count": 62,
   "metadata": {},
   "outputs": [
    {
     "name": "stdout",
     "output_type": "stream",
     "text": [
      "real value of y_test[0]:= 0.66\tpredicted value = 0.7708759887513175\n",
      "real value of y_test[3]:= 0.85\tpredicted value = 0.8259715299650394\n",
      "real value of y_test[20]:= 0.66\tpredicted value = 0.623715230482536\n"
     ]
    }
   ],
   "source": [
    "print(\"real value of y_test[0]:= \" + str(y_test[0]) + \"\\t\" \"predicted value = \" +str(y_pred[0]))\n",
    "print(\"real value of y_test[3]:= \" + str(y_test[3]) + \"\\t\" \"predicted value = \" +str(y_pred[3]))\n",
    "print(\"real value of y_test[20]:= \" + str(y_test[20]) + \"\\t\" \"predicted value = \" +str(y_pred[20]))"
   ]
  },
  {
   "cell_type": "code",
   "execution_count": 63,
   "metadata": {},
   "outputs": [
    {
     "name": "stdout",
     "output_type": "stream",
     "text": [
      "r_square score:  0.6820558528080667\n"
     ]
    }
   ],
   "source": [
    "from sklearn.metrics import r2_score\n",
    "print(\"r_square score: \", r2_score(y_test,y_pred))"
   ]
  },
  {
   "cell_type": "code",
   "execution_count": 64,
   "metadata": {},
   "outputs": [
    {
     "name": "stdout",
     "output_type": "stream",
     "text": [
      "r_square score (train dataset):  0.8169588420788972\n"
     ]
    }
   ],
   "source": [
    "y_head_lr_train = lr.predict(x_train)\n",
    "print(\"r_square score (train dataset): \", r2_score(y_train,y_head_lr_train))"
   ]
  },
  {
   "cell_type": "code",
   "execution_count": null,
   "metadata": {},
   "outputs": [],
   "source": []
  },
  {
   "cell_type": "markdown",
   "metadata": {},
   "source": [
    "# Random Forest Regression"
   ]
  },
  {
   "cell_type": "code",
   "execution_count": 66,
   "metadata": {},
   "outputs": [],
   "source": [
    "\n",
    "from sklearn.ensemble import RandomForestRegressor\n",
    "rfr = RandomForestRegressor(n_estimators = 100, random_state = 42)\n",
    "rfr.fit(x_train,y_train)\n",
    "y_pred_rfr = rfr.predict(x_test) \n"
   ]
  },
  {
   "cell_type": "code",
   "execution_count": 67,
   "metadata": {},
   "outputs": [
    {
     "name": "stdout",
     "output_type": "stream",
     "text": [
      "real value of y_test[0]:= 0.66\tpredicted value = 0.8120000000000002\n",
      "real value of y_test[3]:= 0.85\tpredicted value = 0.8986999999999996\n",
      "real value of y_test[20]:= 0.66\tpredicted value = 0.6489999999999999\n"
     ]
    }
   ],
   "source": [
    "print(\"real value of y_test[0]:= \" + str(y_test[0]) + \"\\t\" \"predicted value = \" +str(y_pred_rfr[0]))\n",
    "print(\"real value of y_test[3]:= \" + str(y_test[3]) + \"\\t\" \"predicted value = \" +str(y_pred_rfr[3]))\n",
    "print(\"real value of y_test[20]:= \" + str(y_test[20]) + \"\\t\" \"predicted value = \" +str(y_pred_rfr[20]))"
   ]
  },
  {
   "cell_type": "code",
   "execution_count": 68,
   "metadata": {},
   "outputs": [
    {
     "name": "stdout",
     "output_type": "stream",
     "text": [
      "r_square score:  0.6234650979981138\n"
     ]
    }
   ],
   "source": [
    "from sklearn.metrics import r2_score\n",
    "print(\"r_square score: \", r2_score(y_test,y_pred_rfr))\n"
   ]
  },
  {
   "cell_type": "code",
   "execution_count": 69,
   "metadata": {},
   "outputs": [
    {
     "name": "stdout",
     "output_type": "stream",
     "text": [
      "r_square score (train dataset):  0.9667044560889697\n"
     ]
    }
   ],
   "source": [
    "y_pred_rf_train = rfr.predict(x_train)\n",
    "print(\"r_square score (train dataset): \", r2_score(y_train,y_pred_rf_train))"
   ]
  },
  {
   "cell_type": "markdown",
   "metadata": {},
   "source": [
    "# Decision Tree Regression\n",
    "\n"
   ]
  },
  {
   "cell_type": "code",
   "execution_count": 70,
   "metadata": {},
   "outputs": [],
   "source": [
    "from sklearn.tree import DecisionTreeRegressor\n",
    "dtr = DecisionTreeRegressor(random_state = 42)\n",
    "dtr.fit(x_train,y_train)\n",
    "y_pred_dtr = dtr.predict(x_test) "
   ]
  },
  {
   "cell_type": "code",
   "execution_count": 71,
   "metadata": {},
   "outputs": [
    {
     "name": "stdout",
     "output_type": "stream",
     "text": [
      "real value of y_test[0]:= 0.66\tpredicted value = 0.79\n",
      "real value of y_test[3]:= 0.85\tpredicted value = 0.9\n",
      "real value of y_test[20]:= 0.66\tpredicted value = 0.72\n"
     ]
    }
   ],
   "source": [
    "print(\"real value of y_test[0]:= \" + str(y_test[0]) + \"\\t\" \"predicted value = \" +str(y_pred_dtr[0]))\n",
    "print(\"real value of y_test[3]:= \" + str(y_test[3]) + \"\\t\" \"predicted value = \" +str(y_pred_dtr[3]))\n",
    "print(\"real value of y_test[20]:= \" + str(y_test[20]) + \"\\t\" \"predicted value = \" +str(y_pred_dtr[20]))"
   ]
  },
  {
   "cell_type": "code",
   "execution_count": 72,
   "metadata": {},
   "outputs": [
    {
     "name": "stdout",
     "output_type": "stream",
     "text": [
      "r_square score:  0.3786814799287286\n"
     ]
    }
   ],
   "source": [
    "from sklearn.metrics import r2_score\n",
    "print(\"r_square score: \", r2_score(y_test,y_pred_dtr))"
   ]
  },
  {
   "cell_type": "code",
   "execution_count": 73,
   "metadata": {},
   "outputs": [
    {
     "name": "stdout",
     "output_type": "stream",
     "text": [
      "r_square score (train dataset):  1.0\n"
     ]
    }
   ],
   "source": [
    "y_pred_dtr_train = dtr.predict(x_train)\n",
    "print(\"r_square score (train dataset): \", r2_score(y_train,y_pred_dtr_train))"
   ]
  },
  {
   "cell_type": "markdown",
   "metadata": {},
   "source": [
    "# Comparison of Regression Algorithms\n",
    "\n"
   ]
  },
  {
   "cell_type": "code",
   "execution_count": 74,
   "metadata": {},
   "outputs": [
    {
     "data": {
      "image/png": "[encoded data removed]",
      "text/plain": [
       "<Figure size 432x288 with 1 Axes>"
      ]
     },
     "metadata": {
      "needs_background": "light"
     },
     "output_type": "display_data"
    }
   ],
   "source": [
    "import matplotlib.pyplot as plt\n",
    "\n",
    "y = np.array([r2_score(y_test,y_head_lr),r2_score(y_test,y_pred_rfr),r2_score(y_test,y_pred_dtr)])\n",
    "x = [\"LinearRegression\",\"RandomForestReg.\",\"DecisionTreeReg.\"]\n",
    "plt.bar(x,y)\n",
    "plt.title(\"Comparison of Regression Algorithms\")\n",
    "plt.xlabel(\"Regressor\")\n",
    "plt.ylabel(\"r2_score\")\n",
    "plt.show()"
   ]
  },
  {
   "cell_type": "markdown",
   "metadata": {},
   "source": [
    "Linear regression and random forest regression algorithms were better than decision tree regression algorithm."
   ]
  },
  {
   "cell_type": "code",
   "execution_count": null,
   "metadata": {},
   "outputs": [],
   "source": []
  }
 ],
 "metadata": {
  "kernelspec": {
   "display_name": "Python 3",
   "language": "python",
   "name": "python3"
  },
  "language_info": {
   "codemirror_mode": {
    "name": "ipython",
    "version": 3
   },
   "file_extension": ".py",
   "mimetype": "text/x-python",
   "name": "python",
   "nbconvert_exporter": "python",
   "pygments_lexer": "ipython3",
   "version": "3.7.1"
  }
 },
 "nbformat": 4,
 "nbformat_minor": 2
}
